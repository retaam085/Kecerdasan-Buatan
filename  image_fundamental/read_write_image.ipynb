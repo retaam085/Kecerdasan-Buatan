{
  "nbformat": 4,
  "nbformat_minor": 0,
  "metadata": {
    "colab": {
      "name": "read_write_image.ipynb",
      "provenance": [],
      "collapsed_sections": [],
      "include_colab_link": true
    },
    "kernelspec": {
      "name": "python3",
      "display_name": "Python 3"
    },
    "language_info": {
      "name": "python"
    }
  },
  "cells": [
    {
      "cell_type": "markdown",
      "metadata": {
        "id": "view-in-github",
        "colab_type": "text"
      },
      "source": [
        "<a href=\"https://colab.research.google.com/github/retaam085/Kecerdasan-Buatan/blob/main/%20image_fundamental/read_write_image.ipynb\" target=\"_parent\"><img src=\"https://colab.research.google.com/assets/colab-badge.svg\" alt=\"Open In Colab\"/></a>"
      ]
    },
    {
      "cell_type": "code",
      "metadata": {
        "colab": {
          "base_uri": "https://localhost:8080/"
        },
        "id": "yiWDK-jTwIPy",
        "outputId": "7f07dced-736a-4655-9157-13336989e517"
      },
      "source": [
        "!wget https://raw.githubusercontent.com/retaam085/Kecerdasan-Buatan/main/Dataset/Daun%20Lidah%20Buaya/001.png --no-check-certificate"
      ],
      "execution_count": 13,
      "outputs": [
        {
          "output_type": "stream",
          "name": "stdout",
          "text": [
            "--2021-11-08 13:28:53--  https://raw.githubusercontent.com/retaam085/Kecerdasan-Buatan/main/Dataset/Daun%20Lidah%20Buaya/001.png\n",
            "Resolving raw.githubusercontent.com (raw.githubusercontent.com)... 185.199.108.133, 185.199.109.133, 185.199.110.133, ...\n",
            "Connecting to raw.githubusercontent.com (raw.githubusercontent.com)|185.199.108.133|:443... connected.\n",
            "HTTP request sent, awaiting response... 200 OK\n",
            "Length: 291223 (284K) [image/png]\n",
            "Saving to: ‘001.png.4’\n",
            "\n",
            "\r001.png.4             0%[                    ]       0  --.-KB/s               \r001.png.4           100%[===================>] 284.40K  --.-KB/s    in 0.03s   \n",
            "\n",
            "2021-11-08 13:28:53 (9.00 MB/s) - ‘001.png.4’ saved [291223/291223]\n",
            "\n"
          ]
        }
      ]
    },
    {
      "cell_type": "code",
      "metadata": {
        "id": "oj4cMJQKwSuQ"
      },
      "source": [
        "# import the necessary packages\n",
        "from matplotlib import pyplot as plt\n",
        "import argparse\n",
        "import cv2"
      ],
      "execution_count": 14,
      "outputs": []
    },
    {
      "cell_type": "code",
      "metadata": {
        "id": "Kg-H2DOswU_D"
      },
      "source": [
        "def plt_imshow(title, image):\n",
        "\t# convert the image frame BGR to RGB color space and display it\n",
        "\timage = cv2.cvtColor(image, cv2.COLOR_BGR2RGB)\n",
        "\tplt.imshow(image)\n",
        "\tplt.title(title)\n",
        "\tplt.grid(False)\n",
        "\tplt.show()"
      ],
      "execution_count": 15,
      "outputs": []
    },
    {
      "cell_type": "code",
      "metadata": {
        "id": "9307r85YwVaD"
      },
      "source": [
        "# construct the argument parser and parse the arguments\n",
        "#ap = argparse.ArgumentParser()\n",
        "#ap.add_argument(\"-i\", \"--image\", required=True,\n",
        "#    help=\"path to input image\")\n",
        "#args = vars(ap.parse_args())\n",
        "\n",
        "# since we are using Jupyter Notebooks we can replace our argument\n",
        "# parsing code with *hard coded* arguments and values\n",
        "args = {\n",
        "\t\"image\": \"001.png\",\n",
        "}"
      ],
      "execution_count": 11,
      "outputs": []
    },
    {
      "cell_type": "code",
      "metadata": {
        "colab": {
          "base_uri": "https://localhost:8080/"
        },
        "id": "_RoByEGSwZ0Z",
        "outputId": "ab60530f-525c-46f5-bbcf-949568c13e17"
      },
      "source": [
        "# load the image from disk via \"cv2.imread\" and then grab the spatial\n",
        "# dimensions, including width, height, and number of channels\n",
        "image = cv2.imread(args[\"image\"])\n",
        "(h, w, c) = image.shape[:3]\n",
        "\n",
        "# display the image width, height, and number of channels to our\n",
        "# terminal\n",
        "print(\"width: {} pixels\".format(image.shape[1]))\n",
        "print(\"height: {}  pixels\".format(image.shape[0]))\n",
        "print(\"channels: {}\".format(image.shape[2]))"
      ],
      "execution_count": 16,
      "outputs": [
        {
          "output_type": "stream",
          "name": "stdout",
          "text": [
            "width: 1872 pixels\n",
            "height: 1500  pixels\n",
            "channels: 3\n"
          ]
        }
      ]
    },
    {
      "cell_type": "code",
      "metadata": {
        "colab": {
          "base_uri": "https://localhost:8080/",
          "height": 298
        },
        "id": "hMSDV4KywcIh",
        "outputId": "1f029d97-6cc3-4c05-c411-7b2f834739c1"
      },
      "source": [
        "# show the image and wait for a keypress\n",
        "plt_imshow(\"Image\", image)\n",
        "\n",
        "# save the image back to disk (OpenCV handles converting image\n",
        "# filetypes automatically)\n",
        "cv2.imwrite(\"batik_new.jpg\", image)"
      ],
      "execution_count": 20,
      "outputs": [
        {
          "output_type": "display_data",
          "data": {
            "image/png": "[encoded data removed]",
            "text/plain": [
              "<Figure size 432x288 with 1 Axes>"
            ]
          },
          "metadata": {
            "needs_background": "light"
          }
        },
        {
          "output_type": "execute_result",
          "data": {
            "text/plain": [
              "True"
            ]
          },
          "metadata": {},
          "execution_count": 20
        }
      ]
    }
  ]
}